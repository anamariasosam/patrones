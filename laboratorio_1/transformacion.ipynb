{
 "cells": [
  {
   "cell_type": "code",
   "execution_count": 14,
   "metadata": {},
   "outputs": [
    {
     "data": {
      "text/plain": [
       "array([[  0.,   0.,   0.,   0.,   0.,   0.,   0.,   0.],\n",
       "       [  0.,   0.,   0.,   0.,   0.,   0.,   0.,   0.],\n",
       "       [255.,   0.,   0.,   0.,   0.,   0.,   0.,   0.],\n",
       "       [255.,   0.,   0.,   0.,   0.,   0.,   0.,   0.],\n",
       "       [  0.,   0.,   0.,   0.,   0.,   0.,   0.,   0.],\n",
       "       [  0.,   0.,   0.,   0.,   0.,   0.,   0.,   0.],\n",
       "       [  0.,   0.,   0.,   0.,   0.,   0.,   0.,   0.],\n",
       "       [  0.,   0.,   0.,   0.,   0.,   0.,   0.,   0.]])"
      ]
     },
     "execution_count": 14,
     "metadata": {},
     "output_type": "execute_result"
    }
   ],
   "source": [
    "from PIL import Image             #Estamos usando la librería Pillow con PIL\n",
    "import numpy as np                # funciones numéricas (arrays, matrices, etc.)\n",
    "import matplotlib.pyplot as plt   # funciones para representación gráfica\n",
    "%matplotlib inline\n",
    "\n",
    "def umbral(img, umbral):\n",
    "    \n",
    "    filas = np.size(img,0)\n",
    "    columnas = np.size(img,1)\n",
    "    \n",
    "    new_Img = np.zeros((filas,columnas))\n",
    "\n",
    "    for i in range(0,filas):\n",
    "        for j in range(0, columnas):\n",
    "            if img[i,j] <= umbral:\n",
    "                new_Img[i,j] = 0\n",
    "            else:\n",
    "                new_Img[i,j] = 255\n",
    "\n",
    "    return new_Img\n",
    "\n",
    "\n",
    "def conjuntoS(ee):\n",
    "    S = set()\n",
    "    for i in range(np.size(ee,0)):\n",
    "        for j in range(np.size(ee,1)):\n",
    "            if ee[i][j] == 1:\n",
    "                S.add((i,j))\n",
    "    return S\n",
    "\n",
    "def crearConjuntoX(img_bin):\n",
    "    filas = np.size(img_bin,0)\n",
    "    columnas = np.size(img_bin,1)\n",
    "    X = set()\n",
    "    for i in range(0,filas):\n",
    "        for j in range(0, columnas):\n",
    "            if(img_bin[i,j] == 255):\n",
    "                X.add((i,j))\n",
    "    return X, filas, columnas\n",
    "\n",
    "def crearMatriz(conjunto, filas, columnas):\n",
    "    matrix = np.zeros((filas + 3,columnas + 3))\n",
    "    for c in conjunto:\n",
    "        matrix[c[0], c[1]] = 255\n",
    "        \n",
    "    return matrix\n",
    "\n",
    "def dilatacion(img_bin, ee):\n",
    "    X, filas, columnas = crearConjuntoX(img_bin)\n",
    "    S = conjuntoS(ee)\n",
    "    d = set()\n",
    "    sList = list(S)\n",
    "    for xs in X:\n",
    "        d.add( ( xs[0] + sList[1][0] , xs[1] + sList[1][1] ))\n",
    "        d.add( ( xs[0] + sList[0][0] , xs[1] + sList[0][1] ))\n",
    "    matrizDilatada = crearMatriz(d, filas, columnas)\n",
    "    return matrizDilatada\n",
    "    \n",
    "def erosion(img_bin, ee):\n",
    "    X, filas, columnas = crearConjuntoX(img_bin)\n",
    "    S = conjuntoS(ee)\n",
    "    e = set()\n",
    "    sList = list(S)\n",
    "    for xs in X:\n",
    "        a = ( xs[0] + sList[1][0] , xs[1] + sList[1][1] )\n",
    "        if (a in X):\n",
    "            b = ( xs[0] + sList[0][0] , xs[1] + sList[0][1] )\n",
    "            if (b in X):\n",
    "                e.add(xs)\n",
    "    matrizErocionada = crearMatriz(e, filas, columnas)\n",
    "    return matrizErocionada\n",
    "    \n",
    "a = np.matrix([[0, 1, 0, 0, 0], [0, 0, 1, 0, 0], [1, 1, 0, 0, 0],[1, 1, 0, 0, 0], [0, 0, 0, 0, 0]]) \n",
    "ee = np.array([[1,1]])\n",
    "erosion(a, ee)"
   ]
  },
  {
   "cell_type": "code",
   "execution_count": 2,
   "metadata": {},
   "outputs": [
    {
     "data": {
      "text/plain": [
       "<matplotlib.image.AxesImage at 0x107a69ac8>"
      ]
     },
     "execution_count": 2,
     "metadata": {},
     "output_type": "execute_result"
    },
    {
     "data": {
      "image/png": "[encoded data removed]",
      "text/plain": [
       "<Figure size 432x288 with 1 Axes>"
      ]
     },
     "metadata": {},
     "output_type": "display_data"
    }
   ],
   "source": [
    "ukelele = Image.open(\"ukelele.jpeg\")\n",
    "uke_gris = ukelele.convert('L')\n",
    "Img_uke = np.asarray(uke_gris,dtype=np.float32)\n",
    "\n",
    "matrixBinaria = umbral(Img_uke,160)\n",
    "ee = np.array([[0,1,0],[1,1,1],[0,1,0]])\n",
    "\n",
    "\n",
    "Img = Image.fromarray(dilatacion(matrixBinaria, ee).astype(np.uint8))\n",
    "plt.imshow(Img, cmap='gray')"
   ]
  }
 ],
 "metadata": {
  "kernelspec": {
   "display_name": "Python 3",
   "language": "python",
   "name": "python3"
  },
  "language_info": {
   "codemirror_mode": {
    "name": "ipython",
    "version": 3
   },
   "file_extension": ".py",
   "mimetype": "text/x-python",
   "name": "python",
   "nbconvert_exporter": "python",
   "pygments_lexer": "ipython3",
   "version": "3.6.5"
  }
 },
 "nbformat": 4,
 "nbformat_minor": 2
}
