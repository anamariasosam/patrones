{
 "cells": [
  {
   "cell_type": "code",
   "execution_count": 184,
   "metadata": {},
   "outputs": [
    {
     "data": {
      "text/plain": [
       "array([ 7, 13])"
      ]
     },
     "execution_count": 184,
     "metadata": {},
     "output_type": "execute_result"
    }
   ],
   "source": [
    "import numpy as np\n",
    "import matplotlib.pyplot as plt\n",
    "\n",
    "file = open(\"texto.txt\", 'r')\n",
    "\n",
    "lista = []\n",
    "for w in file:\n",
    "    w = w[:-1]\n",
    "    lista += w.split(\" \")\n",
    "\n",
    "#print(lista)\n",
    "\n",
    "## Vamos a limpiar\n",
    "\n",
    "stoplist = ['.', ',', '(']\n",
    "\n",
    "limpia = []\n",
    "for p in lista:\n",
    "    if len(p) > 0:\n",
    "        if p[-1] in stoplist:\n",
    "            p = p[:-1]\n",
    "        elif p[0] in stoplist:\n",
    "            p = p[1:]\n",
    "    limpia.append(p)\n",
    "    \n",
    "# print(limpia)\n",
    "    \n",
    "verbos_lista = []\n",
    "verbos_ar = 0\n",
    "verbos_ir = 0\n",
    "verbos_er = 0\n",
    "for palabra in limpia:\n",
    "    if palabra[-2:] == \"ar\":\n",
    "        verbos_ar += 1\n",
    "    if palabra[-2:] == \"er\":\n",
    "        verbos_er += 1\n",
    "    if palabra[-2:] == \"ir\":\n",
    "        verbos_ir += 1\n",
    "\n",
    "#  print(\"Total Ar:\", verbos_ar)\n",
    "        \n",
    "# print(\"Total Er:\", verbos_er)\n",
    "        \n",
    "# print(\"Total Ir:\", verbos_ir)\n",
    "\n",
    "\n",
    "histograma = np.zeros(15)\n",
    "for palabra in limpia:\n",
    "    histograma[len(palabra) - 1] += 1\n",
    "    \n",
    "\n",
    "#plt.hist(histograma)\n",
    "#plt.show()\n",
    "\n",
    "tupla =  (2,3)\n",
    "\n",
    "\n",
    "dicc = {\n",
    "    '101': 'Ana',\n",
    "    '343': 'Meli',\n",
    "    '232': 'Migue'\n",
    "}\n",
    "\n",
    "dicc.values()\n",
    "dicc['343'] = 'anannana'\n",
    "dicc['343']\n",
    "\n",
    "\n",
    "conjunto = {0,'1',2,4,5,6}\n",
    "\n",
    "conjunto.add(5)\n",
    "conjunto\n",
    "\n",
    "\n",
    "beta = np.array([2,3,1])\n",
    "alfa = np.array([22,23,21])\n",
    "x = np.array([[1,2],[1,2],[2,3]])\n",
    "\n",
    "multiplacion_matricial = np.dot(beta,x)\n",
    "multiplacion_matricial"
   ]
  }
 ],
 "metadata": {
  "kernelspec": {
   "display_name": "Python 3",
   "language": "python",
   "name": "python3"
  },
  "language_info": {
   "codemirror_mode": {
    "name": "ipython",
    "version": 3
   },
   "file_extension": ".py",
   "mimetype": "text/x-python",
   "name": "python",
   "nbconvert_exporter": "python",
   "pygments_lexer": "ipython3",
   "version": "3.6.5"
  }
 },
 "nbformat": 4,
 "nbformat_minor": 2
}
