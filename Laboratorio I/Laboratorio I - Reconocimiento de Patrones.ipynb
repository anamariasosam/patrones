{
 "cells": [
  {
   "cell_type": "markdown",
   "metadata": {},
   "source": [
    "<center>\n",
    "<a href=\"http://www.udem.edu.co/\"><img src=\"Escudo.png\"></a>\n",
    "<h1>Reconocimiento de Patrones I</h1>\n",
    "<h3>2018-2</h3>\n",
    "<h2>Laboratorio I</h2>\n",
    "</center>"
   ]
  },
  {
   "cell_type": "markdown",
   "metadata": {},
   "source": [
    "### Estudiantes\n",
    "\n",
    "Nombre: Ana María Sosa \n",
    "\n",
    "Identificación: 1017235052\n",
    "    \n",
    "Nombre: Melisa Morales Gómez\n",
    "    \n",
    "Identificación:\n",
    "\n",
    "Nombre: Miguel Angel \n",
    "    \n",
    "Identificación:"
   ]
  },
  {
   "cell_type": "markdown",
   "metadata": {},
   "source": [
    "El presente laboratorio consta de dos partes. En la primera parte se trabajan aspectos básicos de la adquisición, representación y clasificación de textos. En la segunda parte, se trabajan aspectos básicos de la adquisición, representación y preprocesamiento de imágenes."
   ]
  },
  {
   "cell_type": "markdown",
   "metadata": {},
   "source": [
    "### Parte 1"
   ]
  },
  {
   "cell_type": "markdown",
   "metadata": {},
   "source": [
    "Junto con este archivo le fue entregado un archivo llamado BD.txt. Este archivo contiene una base de datos de artículos de prensa marcados como positivos (P) y negativos (N). Complete la siguiente celda de código para extraer e imprimir el número de muestras de la base de datos y la distribución de las muestras entre las dos clases (cuántos artículos son positivos y cuántos negativos)."
   ]
  },
  {
   "cell_type": "code",
   "execution_count": 40,
   "metadata": {},
   "outputs": [
    {
     "name": "stdout",
     "output_type": "stream",
     "text": [
      "                                   Artículo completo Clase\n",
      "0  La meta: pensionar  más   colombianos  En dici...     P\n",
      "1  Colombia debe darle una oportunidad a la paz '...     P\n",
      "2  Gobierno anuncia $300.000 millones para dotar ...     P\n",
      "3  Más asistencialismo que inclusión  social  La ...     N\n",
      "4  Debemos resolver el problema de la desigualdad...     P\n",
      "\n",
      "La base de datos tiene  204  artículos.\n",
      "\n",
      "Positivos =  109 ; Negativos =  95\n"
     ]
    }
   ],
   "source": [
    "#Puede consultar la documentación de la librería Pandas o basarse en lo trabajo en clase.\n",
    "\n",
    "import pandas as pd\n",
    "\n",
    "db = pd.read_csv(\"DB.txt\", delimiter=\"\\t\")\n",
    "print(db.head())\n",
    "\n",
    "#Complete el código para calcular el número de artículos de la base de datos (hay un artículo por fila).\n",
    "num_articulos = db.shape[0]\n",
    "\n",
    "#Complete el código para calcular el número de artículos positivos y guarde ese valor en cuenta_P.\n",
    "#Haga lo mismo para los artículos negativos y guarde el valor en cuenta_N\n",
    "cuenta_P, cuenta_N = 0, 0\n",
    "\n",
    "cuenta_Clases = db.groupby('Clase').size()\n",
    "\n",
    "cuenta_P = cuenta_Clases['P']\n",
    "cuenta_N = cuenta_Clases['N']\n",
    "\n",
    "\n",
    "print(\"\\nLa base de datos tiene \", num_articulos, \" artículos.\\n\")\n",
    "print(\"Positivos = \", cuenta_P, \"; Negativos = \", cuenta_N)"
   ]
  },
  {
   "cell_type": "markdown",
   "metadata": {},
   "source": [
    "En la siguiente celda, complete el código donde le sea indicado, para cargar todos los artículos positivos en la lista docs_pos y todos los artículos negativos en la lista docs_neg."
   ]
  },
  {
   "cell_type": "code",
   "execution_count": 75,
   "metadata": {},
   "outputs": [
    {
     "name": "stdout",
     "output_type": "stream",
     "text": [
      "204\n"
     ]
    }
   ],
   "source": [
    "docs_pos = []\n",
    "docs_neg = []\n",
    "i = 0\n",
    "for d in db['Clase']:\n",
    "    #Complete el código aquí\n",
    "    if d == 'P':\n",
    "        docs_pos.append(db['Artículo completo'][i])\n",
    "    else:\n",
    "        docs_neg.append(db['Artículo completo'][i])\n",
    "    i += 1\n",
    "    \n",
    "#print(len(docs_pos), len(docs_neg))    \n",
    "\n",
    "#Se parte la base de datos para tener datos de entrenamiento y datos de validación\n",
    "\n",
    "i = 0\n",
    "docs_test_pos = []\n",
    "for d in docs_pos:\n",
    "    if i >=99:\n",
    "        docs_test_pos.append(docs_pos[i])\n",
    "    i+=1\n",
    "\n",
    "docs_pos = docs_pos[:99]\n",
    "\n",
    "i = 0\n",
    "docs_test_neg = []\n",
    "for d in docs_neg:\n",
    "    if i >=85:\n",
    "        docs_test_neg.append(docs_neg[i])\n",
    "    i+=1\n",
    "\n",
    "docs_neg = docs_neg[:85]\n"
   ]
  },
  {
   "cell_type": "markdown",
   "metadata": {},
   "source": [
    "En la siguiente celda de código no debe completar nada. Allí encontrará la implementación de tres funciones\n",
    "que componene el modelo Naïve Bayes. Analicela y comprenda lo que el código hace."
   ]
  },
  {
   "cell_type": "code",
   "execution_count": 9,
   "metadata": {},
   "outputs": [],
   "source": [
    "import numpy as np\n",
    "\n",
    "def vocabulario(docs):\n",
    "    '''\n",
    "    Este método recibe los documentos en una lista y retorna una lista con el vocabulario de los mismos\n",
    "    '''\n",
    "    #Para tomar las unique words usamos un conjunto de Python. El doc debe ser tokenizado primero\n",
    "    #notar por qué.\n",
    "    vocab = set()\n",
    "    for d in docs:\n",
    "        palabras = d.split()\n",
    "        for p in palabras:\n",
    "            vocab.add(p)\n",
    "    return vocab\n",
    "\n",
    "def priori(docs, total):\n",
    "    return len(docs)/total\n",
    "\n",
    "def likelihood(docs_test, docs_train, vocab):\n",
    "    '''\n",
    "    Este método recibe los documentos para los cuales se quiere calcular la verosimilitud.\n",
    "    docs_test es una lista. Recibe los documentos de la clase para la cuál se está\n",
    "    calculando la posterior. docs_train es una lista. Recibe el vocabulario de palabras de todos los\n",
    "    documentos. vocab es una lista.\n",
    "    Retorna una lista con los valores del logarítmo de la productoria de las verosimilitudes para cada documento.\n",
    "    '''\n",
    "    \n",
    "    #Para calcular el denominador de la verosimilitud\n",
    "    cuenta_den = 0\n",
    "    for v in vocab:\n",
    "        for d in docs_train:\n",
    "            pal = d.split(\" \")\n",
    "            for new_p in pal:\n",
    "                if new_p in v:\n",
    "                    cuenta_den += 1\n",
    "    \n",
    "    denominador = cuenta_den + len(vocab)\n",
    "    \n",
    "    #Para calcular la productoria de la verosimilitud de cada palabra\n",
    "    lk = []\n",
    "    for doc_te in docs_test:\n",
    "        words = doc_te.split(\" \")\n",
    "        suma = 0\n",
    "        for w in words:\n",
    "            cuenta_num = 1\n",
    "            if w in vocab:\n",
    "                for doc_tr in docs_train:\n",
    "                    pal = doc_tr.split(\" \")\n",
    "                    for new_p in pal:\n",
    "                        if w == new_p:\n",
    "                            cuenta_num += 1\n",
    "                            \n",
    "                #En la variable suma se guarda el logaritmo de la productoria de las verosimilitudes \n",
    "                #para cada palabra del documento de test. Por qué sumatoria y no productoria?            \n",
    "                suma += np.log(cuenta_num/denominador)\n",
    "                \n",
    "        lk.append(suma)\n",
    "    \n",
    "    return lk"
   ]
  },
  {
   "cell_type": "markdown",
   "metadata": {},
   "source": [
    "En la siguiente celda, complete el código donde le sea indicado para extraer el vocabulario, calcular las probabilidades a prior y calcular las productorias de las verosimilitudes para cada documento del conjunto de validación.\n",
    "\n",
    "Tenga en cuenta que el tiempo de ejecución de la siguiente celda puede ser considerablemente alto (15 minutos aproximadamente), al llamar al método likelihood con la base de datos entregada."
   ]
  },
  {
   "cell_type": "code",
   "execution_count": 41,
   "metadata": {},
   "outputs": [
    {
     "name": "stdout",
     "output_type": "stream",
     "text": [
      "Corriendo . . .\n",
      "\n",
      "Finalizado.\n",
      "Tiempo de ejecución:  13.714395403862 minutos.\n"
     ]
    }
   ],
   "source": [
    "import time\n",
    "t = time.time()\n",
    "print(\"Corriendo . . .\")\n",
    "\n",
    "#Extraemos el vocabulario\n",
    "docs = db['Artículo completo']\n",
    "vocab = vocabulario(docs)\n",
    "\n",
    "\n",
    "#Calculamos las probabilidades a priori para ambas clases\n",
    "prioriPos = np.log(priori(docs_pos, cuenta_P))\n",
    "prioriNeg = np.log(priori(docs_neg, cuenta_N) )\n",
    "\n",
    "\n",
    "#Calculamos las productorias de las verosimilitudes para ambas clases\n",
    "docs_test = docs_test_pos + docs_test_neg\n",
    "\n",
    "prod_verosimil_pos = likelihood(docs_test, #Complete el código con los parámetros que faltan para la clase pos)\n",
    "\n",
    "prod_verosimil_neg = likelihood(docs_test, #Complete el código con los parámetros que faltan para la clase neg)\n",
    "                                \n",
    "\n",
    "print(\"\\nFinalizado.\\n\")\n",
    "                                \n",
    "print(\"Tiempo de ejecución: \", ((time.time()-t)/60), \"minutos.\")"
   ]
  },
  {
   "cell_type": "markdown",
   "metadata": {},
   "source": [
    "En la siguiente celda, complete el código donde le sea indicado para calcular las medidas de error: sensibilidad, especificidad, eficiencia y error de clasificación del modelo."
   ]
  },
  {
   "cell_type": "code",
   "execution_count": 76,
   "metadata": {},
   "outputs": [
    {
     "ename": "IndentationError",
     "evalue": "expected an indented block (<ipython-input-76-a32a4fe3bfe6>, line 27)",
     "output_type": "error",
     "traceback": [
      "\u001b[1;36m  File \u001b[1;32m\"<ipython-input-76-a32a4fe3bfe6>\"\u001b[1;36m, line \u001b[1;32m27\u001b[0m\n\u001b[1;33m    else:\u001b[0m\n\u001b[1;37m       ^\u001b[0m\n\u001b[1;31mIndentationError\u001b[0m\u001b[1;31m:\u001b[0m expected an indented block\n"
     ]
    }
   ],
   "source": [
    "#Calculando las medidas de error\n",
    "#Variables para True negative, True positive, False negative and False positive.\n",
    "TN, TP, FN, FP = 0, 0, 0, 0\n",
    "\n",
    "for j in range(len(docs_test)):  \n",
    "\n",
    "    #Calculamos las posteriores (teniendo en cuenta la corrección logarítmica aplicada) para ambas clases\n",
    "    Ppos = prioriPos*prod_verosimil_pos[j]\n",
    "    #print(\"P(S|+) = \", round(Ppos,10))\n",
    "    Pneg = prioriNeg*prod_verosimil_neg[j]\n",
    "    #print(\"P(S|-) = \", round(Pneg,10))\n",
    "\n",
    "    #Clasificamos el documento\n",
    "    if Ppos >= Pneg:\n",
    "        #print(\"El documento ->\", docs_test[j], \"<- es positivo.\")\n",
    "        clase = 1 #Tenga en cuenta que la clase 1 es para los positivos\n",
    "    else:\n",
    "        #print(\"El documento ->\", docs_test[j], \"<- es negativo.\")\n",
    "        clase = 0 #Tenga en cuenta que la clase 0 es para los negativos\n",
    "\n",
    "    #la lista con los articulos para validar tiene 20 articulos. Los primeros 10 son positivos, el resto son\n",
    "    #negativos\n",
    "    if j <= 9: # Estamos en los artículos positivos del conjunto de test    \n",
    "        \n",
    "        #Complete el código para calcular las variables TP y FN\n",
    "    #Estamos en los artículos negativos (entre la posición 10 y 19 de docs_test)\n",
    "    else: \n",
    "        \n",
    "        #Complete el código para calcular las variables TN y FP\n",
    "    \n",
    "sensibilidad = TP / (TP+FN)\n",
    "especificidad = TN / (TN+FP)\n",
    "eficiencia = (TP+TN)/(TP+TN+FP+FN)\n",
    "error = 1-eficiencia\n",
    "\n",
    "print(\"Medidas de error:\\n\")\n",
    "print(\"Eficiencia = \", eficiencia)\n",
    "print(\"Error = \", error)\n",
    "print(\"Sensibilidad = \", sensibilidad)\n",
    "print(\"Especificidad = \", especificidad)"
   ]
  },
  {
   "cell_type": "markdown",
   "metadata": {},
   "source": [
    "De acuerdo a los resultados obtenidos, qué puede concluir del modelo clasificador para este problema en específico? Qué tal clasifica los positivos? qué tal los negativos?"
   ]
  },
  {
   "cell_type": "markdown",
   "metadata": {},
   "source": [
    "Responda aquí: "
   ]
  },
  {
   "cell_type": "markdown",
   "metadata": {},
   "source": [
    "Por qué ocurre lo anterior? Responda con base en la teoría del modelo. Es decir, basado en la forma como son calculadas las probabilidades a priori y la verosimilitud."
   ]
  },
  {
   "cell_type": "markdown",
   "metadata": {},
   "source": [
    "Responda aquí: "
   ]
  },
  {
   "cell_type": "markdown",
   "metadata": {},
   "source": [
    "### Parte 2"
   ]
  },
  {
   "cell_type": "markdown",
   "metadata": {},
   "source": [
    "#### Lectura, visualización, preprocesamiento y escritura de imágenes con el módulo Image"
   ]
  },
  {
   "cell_type": "code",
   "execution_count": 12,
   "metadata": {},
   "outputs": [],
   "source": [
    "from PIL import Image\n",
    "import numpy as np                # funciones numéricas (arrays, matrices, etc.)\n",
    "import matplotlib.pyplot as plt   # funciones para representación gráfica\n",
    "\n",
    "#Leemos una imagen que se encuentra en el directorio img entregado junto con este archivo ipynb\n",
    "I = Image.open(\"img/img1.jpg\")"
   ]
  },
  {
   "cell_type": "markdown",
   "metadata": {},
   "source": [
    "En la siguiente celda, escriba el códido para imprimir a color la imagen cargada en la variable I."
   ]
  },
  {
   "cell_type": "code",
   "execution_count": 15,
   "metadata": {},
   "outputs": [
    {
     "ename": "TypeError",
     "evalue": "imshow() missing 1 required positional argument: 'X'",
     "output_type": "error",
     "traceback": [
      "\u001b[1;31m---------------------------------------------------------------------------\u001b[0m",
      "\u001b[1;31mTypeError\u001b[0m                                 Traceback (most recent call last)",
      "\u001b[1;32m<ipython-input-15-c5a42ca1e56e>\u001b[0m in \u001b[0;36m<module>\u001b[1;34m()\u001b[0m\n\u001b[1;32m----> 1\u001b[1;33m \u001b[0mplt\u001b[0m\u001b[1;33m.\u001b[0m\u001b[0mimshow\u001b[0m\u001b[1;33m(\u001b[0m \u001b[1;33m)\u001b[0m\u001b[1;33m\u001b[0m\u001b[0m\n\u001b[0m\u001b[0;32m      2\u001b[0m \u001b[0mplt\u001b[0m\u001b[1;33m.\u001b[0m\u001b[0mshow\u001b[0m\u001b[1;33m(\u001b[0m\u001b[1;33m)\u001b[0m\u001b[1;33m\u001b[0m\u001b[0m\n",
      "\u001b[1;31mTypeError\u001b[0m: imshow() missing 1 required positional argument: 'X'"
     ]
    }
   ],
   "source": [
    "plt.imshow( #Complete el código aquí )\n",
    "plt.show()"
   ]
  },
  {
   "cell_type": "markdown",
   "metadata": {},
   "source": [
    "En la siguiente celda, escriba el código para imprimir el tamaño, el modo de la imagen y su formato."
   ]
  },
  {
   "cell_type": "code",
   "execution_count": 16,
   "metadata": {},
   "outputs": [],
   "source": [
    "# Complete el código aquí"
   ]
  },
  {
   "cell_type": "markdown",
   "metadata": {},
   "source": [
    "En la siguiente celda, convierta a escala de grises la imagen cargada en la variable I e imprimala en escala de grises."
   ]
  },
  {
   "cell_type": "code",
   "execution_count": 17,
   "metadata": {},
   "outputs": [
    {
     "ename": "SyntaxError",
     "evalue": "invalid syntax (<ipython-input-17-17564743a42f>, line 1)",
     "output_type": "error",
     "traceback": [
      "\u001b[1;36m  File \u001b[1;32m\"<ipython-input-17-17564743a42f>\"\u001b[1;36m, line \u001b[1;32m1\u001b[0m\n\u001b[1;33m    I_gris = # Complete su código aquí\u001b[0m\n\u001b[1;37m                                      ^\u001b[0m\n\u001b[1;31mSyntaxError\u001b[0m\u001b[1;31m:\u001b[0m invalid syntax\n"
     ]
    }
   ],
   "source": [
    "I_gris = # Complete su código aquí\n",
    "plt.imshow(np.asarray(I_gris), cmap='gray')\n",
    "plt.show()"
   ]
  },
  {
   "cell_type": "markdown",
   "metadata": {},
   "source": [
    "En la siguiente celda, convierta la imagen a formato float32 para que pueda realizar operaciones matemáticas sobre ella."
   ]
  },
  {
   "cell_type": "code",
   "execution_count": 83,
   "metadata": {},
   "outputs": [],
   "source": [
    "A =    #convierta el objeto I en una matriz de tipo float32."
   ]
  },
  {
   "cell_type": "markdown",
   "metadata": {},
   "source": [
    "En la siguiente celda, extraiga la boca de mujer de la imagen y guardela en una variable. Luego grafique la imagen completa y a su lado la imagen de la boca que extrajo."
   ]
  },
  {
   "cell_type": "code",
   "execution_count": 18,
   "metadata": {},
   "outputs": [
    {
     "ename": "SyntaxError",
     "evalue": "invalid syntax (<ipython-input-18-11cc22298c38>, line 4)",
     "output_type": "error",
     "traceback": [
      "\u001b[1;36m  File \u001b[1;32m\"<ipython-input-18-11cc22298c38>\"\u001b[1;36m, line \u001b[1;32m4\u001b[0m\n\u001b[1;33m    plt.imshow(# Complete el código aquí)\u001b[0m\n\u001b[1;37m      ^\u001b[0m\n\u001b[1;31mSyntaxError\u001b[0m\u001b[1;31m:\u001b[0m invalid syntax\n"
     ]
    }
   ],
   "source": [
    "boca = A[ #Complete el código aquí ]\n",
    "\n",
    "plt.subplot(121)\n",
    "plt.imshow(# Complete el código aquí)\n",
    "plt.title('Rostro')\n",
    "plt.axis('off') \n",
    "\n",
    "plt.subplot(122)\n",
    "plt.imshow(# Complete el código aquí)\n",
    "plt.title('La boca')\n",
    "plt.axis('off')\n",
    "\n",
    "plt.show()"
   ]
  },
  {
   "cell_type": "markdown",
   "metadata": {},
   "source": [
    "En la siguiente celca, escriba el código para guardar en el directorio img, la imagen de la mujer y la imagen de la boca en escala de grises."
   ]
  },
  {
   "cell_type": "code",
   "execution_count": 19,
   "metadata": {},
   "outputs": [],
   "source": [
    "#Complete el código para guardar ambas imágenes.\n"
   ]
  },
  {
   "cell_type": "markdown",
   "metadata": {},
   "source": [
    "En la siguiente celda, escriba el código para obtener la siguiente imagen e imprimirla."
   ]
  },
  {
   "cell_type": "markdown",
   "metadata": {},
   "source": [
    "<a href=\"#\"><img src=\"img/img_ejercicio.jpg\"></a>"
   ]
  },
  {
   "cell_type": "code",
   "execution_count": 20,
   "metadata": {},
   "outputs": [],
   "source": [
    "# Escriba el código para obtener la imagen anterior e imprimirla\n"
   ]
  },
  {
   "cell_type": "markdown",
   "metadata": {},
   "source": [
    "En la siguiente celda, escriba el código para obtener la siguiente imagen e imprimirla."
   ]
  },
  {
   "cell_type": "markdown",
   "metadata": {},
   "source": [
    "<a href=\"#\"><img src=\"img/img_ejercicio2.jpg\"></a>"
   ]
  },
  {
   "cell_type": "code",
   "execution_count": 21,
   "metadata": {},
   "outputs": [],
   "source": [
    "# Escriba el código para obtener la imagen anterior e imprimirla"
   ]
  },
  {
   "cell_type": "code",
   "execution_count": null,
   "metadata": {},
   "outputs": [],
   "source": []
  }
 ],
 "metadata": {
  "kernelspec": {
   "display_name": "Python 3",
   "language": "python",
   "name": "python3"
  },
  "language_info": {
   "codemirror_mode": {
    "name": "ipython",
    "version": 3
   },
   "file_extension": ".py",
   "mimetype": "text/x-python",
   "name": "python",
   "nbconvert_exporter": "python",
   "pygments_lexer": "ipython3",
   "version": "3.6.5"
  }
 },
 "nbformat": 4,
 "nbformat_minor": 2
}
