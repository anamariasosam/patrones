{
 "cells": [
  {
   "cell_type": "markdown",
   "metadata": {},
   "source": [
    "<center>\n",
    "<a href=\"http://www.udem.edu.co/\"><img src=\"Escudo.png\"></a>\n",
    "<h1>Reconocimiento de Patrones I</h1>\n",
    "<h3>2018-2</h3>\n",
    "<h2>Proyecto de Aula: Caracterización de rostros</h2>\n",
    "</center>"
   ]
  },
  {
   "cell_type": "markdown",
   "metadata": {},
   "source": [
    "### Estudiantes\n",
    "\n",
    "Nombre: Ana María Sosa \n",
    "\n",
    "Identificación: 1017235052\n",
    "    \n",
    "Nombre: Melisa Morales Gómez\n",
    "    \n",
    "Identificación: 1035875351\n",
    "\n",
    "Nombre: Miguel Angel Mejia\n",
    "    \n",
    "Identificación: 1036646927\n"
   ]
  },
  {
   "cell_type": "markdown",
   "metadata": {},
   "source": [
    "## Descripción del proyecto\n",
    "\n",
    "Aquí se describe el problema que se quiere resolver, cómo se va a resolver y se describe la base de datos. Tenga en cuenta que en la descripción de la base de datos debe hablar de las imágenes originales y de la base de datos elaborada después de caracterizar las imágenes, es decir, cuántas y cuáles son las características que representan a cada muestra (imágen)."
   ]
  },
  {
   "cell_type": "markdown",
   "metadata": {},
   "source": [
    "## Código fuente del proyecto"
   ]
  },
  {
   "cell_type": "code",
   "execution_count": 1,
   "metadata": {},
   "outputs": [
    {
     "data": {
      "text/plain": [
       "<Figure size 800x250 with 3 Axes>"
      ]
     },
     "metadata": {},
     "output_type": "display_data"
    },
    {
     "name": "stdout",
     "output_type": "stream",
     "text": [
      "El umbral obtenido con el método de Otsu para el ukelele:  74.328125 Fue mejorado manualmente (a 170)\n"
     ]
    },
    {
     "data": {
      "text/plain": [
       "<Figure size 800x250 with 3 Axes>"
      ]
     },
     "metadata": {},
     "output_type": "display_data"
    }
   ],
   "source": [
    "import matplotlib.pyplot as plt\n",
    "from skimage import data\n",
    "from skimage.filters import threshold_otsu\n",
    "from skimage.color import rgb2gray\n",
    "from skimage import io\n",
    "import numpy as np\n",
    "from PIL import Image\n",
    "\n",
    "image = data.camera()\n",
    "thresh = threshold_otsu(image)\n",
    "binary = image > thresh\n",
    "\n",
    "#Ukelele image\n",
    "\n",
    "img_ukelele = Image.open('cropped_faces/s01_02.jpg')\n",
    "# Convertir a escala de grises\n",
    "img_ukelele = img_ukelele.convert('L')\n",
    "# Convertir a float32\n",
    "img_ukelele = np.asarray(img_ukelele,dtype=np.float32)\n",
    "\n",
    "\n",
    "thresh1 = threshold_otsu(img_ukelele)\n",
    "binary1 = img_ukelele > thresh1  + 58 # Con esto se mejora el umbral (tener en cuenta que la imagen tiene mucho ruido)\n",
    "\n",
    "fig, axes = plt.subplots(ncols=3, figsize=(8, 2.5))\n",
    "ax = axes.ravel()\n",
    "ax[0] = plt.subplot(1, 3, 1)\n",
    "ax[1] = plt.subplot(1, 3, 2)\n",
    "ax[2] = plt.subplot(1, 3, 3, sharex=ax[0], sharey=ax[0])\n",
    "\n",
    "ax[0].imshow(image, cmap=plt.cm.gray)\n",
    "ax[0].set_title('Original')\n",
    "ax[0].axis('off')\n",
    "\n",
    "ax[1].hist(image.ravel(), bins=256)\n",
    "ax[1].set_title('Histogram')\n",
    "ax[1].axvline(thresh, color='r')\n",
    "\n",
    "ax[2].imshow(binary, cmap=plt.cm.gray)\n",
    "ax[2].set_title('Thresholded')\n",
    "ax[2].axis('off')\n",
    "\n",
    "plt.show()\n",
    "\n",
    "#Ukelele\n",
    "\n",
    "print('El umbral obtenido con el método de Otsu para el ukelele: ', thresh1, 'Fue mejorado manualmente (a 170)')\n",
    "\n",
    "fig, axes = plt.subplots(ncols=3, figsize=(8, 2.5))\n",
    "ax = axes.ravel()\n",
    "ax[0] = plt.subplot(1, 3, 1)\n",
    "ax[1] = plt.subplot(1, 3, 2)\n",
    "ax[2] = plt.subplot(1, 3, 3, sharex=ax[0], sharey=ax[0])\n",
    "\n",
    "ax[0].imshow(img_ukelele, cmap=plt.cm.gray)\n",
    "ax[0].set_title('Ukelele original')\n",
    "ax[0].axis('off')\n",
    "\n",
    "ax[1].hist(img_ukelele.ravel(), bins=256)\n",
    "ax[1].set_title('Histogram')\n",
    "ax[1].axvline(thresh1, color='r')\n",
    "\n",
    "ax[2].imshow(binary1, cmap=plt.cm.gray)\n",
    "ax[2].set_title('Thresholded')\n",
    "ax[2].axis('off')\n",
    "\n",
    "plt.show()\n",
    "\n"
   ]
  }
 ],
 "metadata": {
  "kernelspec": {
   "display_name": "Python 3",
   "language": "python",
   "name": "python3"
  },
  "language_info": {
   "codemirror_mode": {
    "name": "ipython",
    "version": 3
   },
   "file_extension": ".py",
   "mimetype": "text/x-python",
   "name": "python",
   "nbconvert_exporter": "python",
   "pygments_lexer": "ipython3",
   "version": "3.6.5"
  }
 },
 "nbformat": 4,
 "nbformat_minor": 2
}
