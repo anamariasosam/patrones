{
 "cells": [
  {
   "cell_type": "markdown",
   "metadata": {},
   "source": [
    "<center>\n",
    "<a href=\"http://www.udem.edu.co/\"><img src=\"Escudo.png\"></a>\n",
    "<h1>Reconocimiento de Patrones I y II</h1>\n",
    "<h2>Sobreajuste y regularización. Coeficiente de Pearson y cociente discriminante de Fisher.</h2>\n",
    "<h3>2018-2</h3>\n",
    "</center>"
   ]
  },
  {
   "cell_type": "markdown",
   "metadata": {},
   "source": [
    "## Coeficiente de correlación de Pearson\n",
    "\n",
    "El coeficiente de correlación de Pearson es un índice que mide la\n",
    "relación lineal entre dos variables aleatorias cuantitativas. Difiere de\n",
    "la covarianza en que es independiente de la escala de medida de las\n",
    "variables. Está dado por:\n",
    "\n",
    "<img src=\"pearson.png\">\n",
    "\n",
    "Si $\\rho = 1$ Existe correlación positiva perfecta\n",
    "\n",
    "Si $ 0 \\lt \\rho \\lt 1$ Existe correlación positiva\n",
    "\n",
    "Si $\\rho = 0$ No existe correlación lineal entre las variables.\n",
    "\n",
    "Si $ -1 \\lt \\rho \\lt 0$ Existe correlación negativa\n",
    "\n",
    "Si $\\rho = -1$ Existe correlación negativa perfecta"
   ]
  },
  {
   "cell_type": "code",
   "execution_count": 3,
   "metadata": {
    "collapsed": true
   },
   "outputs": [],
   "source": [
    "import numpy as np\n",
    "\n",
    "def coef_pearson(x,y):\n",
    "    n = np.size(x,0)\n",
    "    num = (n*(np.sum(x*y))) - ((np.sum(x))*(np.sum(y)))\n",
    "    den1 = np.sqrt((n*(np.sum(x**2))) - (np.sum(x)**2))\n",
    "    den2 = np.sqrt((n*(np.sum(y**2))) - (np.sum(y)**2))\n",
    "    den = den1*den2\n",
    "    cp = num/den\n",
    "    return np.round(cp,3)"
   ]
  },
  {
   "cell_type": "code",
   "execution_count": 4,
   "metadata": {
    "collapsed": true
   },
   "outputs": [],
   "source": [
    "x = np.array([1,1.5,3])\n",
    "y = np.array([2,3,6])   #Correlación positiva perfecta\n",
    "y2 = np.array([-2,-3,-6])   #Correlación negativa perfecta"
   ]
  },
  {
   "cell_type": "code",
   "execution_count": 5,
   "metadata": {},
   "outputs": [
    {
     "name": "stdout",
     "output_type": "stream",
     "text": [
      "1.0\n",
      "-1.0\n"
     ]
    }
   ],
   "source": [
    "print(coef_pearson(x,y))\n",
    "print(coef_pearson(x,y2))"
   ]
  },
  {
   "cell_type": "code",
   "execution_count": 6,
   "metadata": {},
   "outputs": [
    {
     "name": "stdout",
     "output_type": "stream",
     "text": [
      "1.0\n"
     ]
    }
   ],
   "source": [
    "x = np.array([1,2,3])\n",
    "y = np.array([4,5,6])   #Correlación positiva perfecta\n",
    "print(coef_pearson(x,y))"
   ]
  },
  {
   "cell_type": "code",
   "execution_count": 7,
   "metadata": {
    "collapsed": true
   },
   "outputs": [],
   "source": [
    "#from scipy.stats import pearsonr\n",
    "#pearsonr(x,y)"
   ]
  },
  {
   "cell_type": "markdown",
   "metadata": {},
   "source": [
    "#### Ejercicio de clase\n",
    "\n",
    "Calcular el coeficiente de correlación de pearson entre las variables X1 y X2, y determinar si se puede trabajar con una de la dos variables y descartar la otra o si se deben tener ambas en cuenta.\n",
    "\n",
    "<table border=\"1\">\n",
    "    <tr>\n",
    "        <td>X1</td>\n",
    "        <td>X2</td>\n",
    "        <td>Y</td>\n",
    "    <tr>\n",
    "    <tr>\n",
    "        <td>1</td>\n",
    "        <td>4</td>\n",
    "        <td>0.1</td>\n",
    "    <tr>\n",
    "    <tr>\n",
    "        <td>2</td>\n",
    "        <td>5</td>\n",
    "        <td>0.3</td>\n",
    "    <tr>\n",
    "    <tr>\n",
    "        <td>3</td>\n",
    "        <td>6</td>\n",
    "        <td>0.8</td>\n",
    "    <tr>\n",
    "</table>"
   ]
  },
  {
   "cell_type": "markdown",
   "metadata": {},
   "source": [
    "## Cociente discriminante de Fisher\n",
    "\n",
    "El cociente discriminante de Fisher es un índice que permite medir la\n",
    "capacidad discriminante de una o varias características bajo la suposición\n",
    "de que una buena característica debe proporcionar baja dispersión\n",
    "intra-clase y alta dispersión entre-clases.\n",
    "\n",
    "$$ F = \\sum_{i}^{C} \\sum_{i\\not = j}^{C} \\frac{(\\mu_i - \\mu_j)^2}{\\sigma_{i}^2 + \\sigma_{j}^2} $$\n",
    "\n",
    "No tiene un rango de valores limitado, para hacer una evaluación objetiva\n",
    "sobre un conjunto de características se puede calcular el coeficiente\n",
    "de Fisher para cada una y normalizar todos los valores con respecto\n",
    "al máximo. Las características de mayor capacidad discriminante serán\n",
    "las que tengan índices por encima de 0.5.\n",
    "\n",
    "Notar que...\n",
    "\n",
    "Si se tienen 2 clases (1,2), el coeficiente de Fisher para cada característica se calcularía así:\n",
    "\n",
    "$$ F = \\frac{(\\mu_1 - \\mu_2)^2}{\\sigma_{1}^2 + \\sigma_{2}^2} $$\n",
    "\n",
    "Si se tienen 3 clases (1,2,3), sería así:\n",
    "\n",
    "$$ F =  \\frac{(\\mu_1 - \\mu_2)^2}{\\sigma_{1}^2 + \\sigma_{2}^2} + \\frac{(\\mu_1 - \\mu_3)^2}{\\sigma_{1}^2 + \\sigma_{3}^2} +\\frac{(\\mu_2 - \\mu_3)^2}{\\sigma_{2}^2 + \\sigma_{3}^2} $$\n",
    "\n",
    "En general, para $k$ clases, se tendrán $k(k-1)/2$ términos en la sumatoria, o lo que es lo mismo, una cantidad igual a la combinatoria de $k$ tomados de a $2$.\n",
    "\n",
    "<img src=\"Coef_Discriminante_Fisher.png\">"
   ]
  },
  {
   "cell_type": "markdown",
   "metadata": {},
   "source": [
    "#### Ejercicio de clase\n",
    "\n",
    "Calcular el coeficiente discriminante de Fisher para las variables X1 y X2, y determinar si son discriminantes o no para el problema.\n",
    "\n",
    "<table border=\"1\">\n",
    "    <tr>\n",
    "        <td>X1</td>\n",
    "        <td>X2</td>\n",
    "        <td>Clase</td>\n",
    "    <tr>\n",
    "    <tr>\n",
    "        <td>1</td>\n",
    "        <td>4</td>\n",
    "        <td>1</td>\n",
    "    <tr>\n",
    "    <tr>\n",
    "        <td>2</td>\n",
    "        <td>5</td>\n",
    "        <td>1</td>\n",
    "    <tr>\n",
    "    <tr>\n",
    "        <td>5</td>\n",
    "        <td>4</td>\n",
    "        <td>2</td>\n",
    "    <tr>\n",
    "        <tr>\n",
    "        <td>6</td>\n",
    "        <td>6</td>\n",
    "        <td>2</td>\n",
    "    <tr>\n",
    "</table>"
   ]
  },
  {
   "cell_type": "code",
   "execution_count": 8,
   "metadata": {
    "collapsed": true
   },
   "outputs": [],
   "source": [
    "def coef_fisher(feature,clase):\n",
    "    cls = set()\n",
    "    for i in clase:\n",
    "        cls.add(i)\n",
    "        \n",
    "    \n",
    "    num_clases = len(cls)\n",
    "    #print(num_clases)\n",
    "    \n",
    "    #TODO"
   ]
  },
  {
   "cell_type": "code",
   "execution_count": 10,
   "metadata": {},
   "outputs": [
    {
     "name": "stdout",
     "output_type": "stream",
     "text": [
      "[1 1 2 2]\n"
     ]
    }
   ],
   "source": [
    "db = np.array([[1,4,1],[2,5,1],[5,4,2],[6,6,2]])\n",
    "X = db[:,0:2]\n",
    "Y = db[:,2]\n",
    "print(Y)"
   ]
  },
  {
   "cell_type": "code",
   "execution_count": 11,
   "metadata": {
    "collapsed": true
   },
   "outputs": [],
   "source": [
    "coef_fisher(X[:,0],Y)"
   ]
  },
  {
   "cell_type": "code",
   "execution_count": null,
   "metadata": {
    "collapsed": true
   },
   "outputs": [],
   "source": []
  }
 ],
 "metadata": {
  "kernelspec": {
   "display_name": "Python 3",
   "language": "python",
   "name": "python3"
  },
  "language_info": {
   "codemirror_mode": {
    "name": "ipython",
    "version": 3
   },
   "file_extension": ".py",
   "mimetype": "text/x-python",
   "name": "python",
   "nbconvert_exporter": "python",
   "pygments_lexer": "ipython3",
   "version": "3.6.3"
  }
 },
 "nbformat": 4,
 "nbformat_minor": 2
}
